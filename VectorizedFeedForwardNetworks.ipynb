{
  "nbformat": 4,
  "nbformat_minor": 0,
  "metadata": {
    "colab": {
      "name": "VectorizedFeedForwardNetworks.ipynb",
      "provenance": [],
      "collapsed_sections": []
    },
    "kernelspec": {
      "display_name": "Python 3",
      "language": "python",
      "name": "python3"
    },
    "widgets": {
      "application/vnd.jupyter.widget-state+json": {
        "f2002b9b0e1140f8934686358cc02a00": {
          "model_module": "@jupyter-widgets/controls",
          "model_name": "HBoxModel",
          "state": {
            "_view_name": "HBoxView",
            "_dom_classes": [],
            "_model_name": "HBoxModel",
            "_view_module": "@jupyter-widgets/controls",
            "_model_module_version": "1.5.0",
            "_view_count": null,
            "_view_module_version": "1.5.0",
            "box_style": "",
            "layout": "IPY_MODEL_cacc7aca8bc84a89a6dcbbfd7ab6714d",
            "_model_module": "@jupyter-widgets/controls",
            "children": [
              "IPY_MODEL_5140143a26b143e6907d3f722f2ad738",
              "IPY_MODEL_3d1620e105144ff388f48f41fa106f89"
            ]
          }
        },
        "cacc7aca8bc84a89a6dcbbfd7ab6714d": {
          "model_module": "@jupyter-widgets/base",
          "model_name": "LayoutModel",
          "state": {
            "_view_name": "LayoutView",
            "grid_template_rows": null,
            "right": null,
            "justify_content": null,
            "_view_module": "@jupyter-widgets/base",
            "overflow": null,
            "_model_module_version": "1.2.0",
            "_view_count": null,
            "flex_flow": null,
            "width": null,
            "min_width": null,
            "border": null,
            "align_items": null,
            "bottom": null,
            "_model_module": "@jupyter-widgets/base",
            "top": null,
            "grid_column": null,
            "overflow_y": null,
            "overflow_x": null,
            "grid_auto_flow": null,
            "grid_area": null,
            "grid_template_columns": null,
            "flex": null,
            "_model_name": "LayoutModel",
            "justify_items": null,
            "grid_row": null,
            "max_height": null,
            "align_content": null,
            "visibility": null,
            "align_self": null,
            "height": null,
            "min_height": null,
            "padding": null,
            "grid_auto_rows": null,
            "grid_gap": null,
            "max_width": null,
            "order": null,
            "_view_module_version": "1.2.0",
            "grid_template_areas": null,
            "object_position": null,
            "object_fit": null,
            "grid_auto_columns": null,
            "margin": null,
            "display": null,
            "left": null
          }
        },
        "5140143a26b143e6907d3f722f2ad738": {
          "model_module": "@jupyter-widgets/controls",
          "model_name": "FloatProgressModel",
          "state": {
            "_view_name": "ProgressView",
            "style": "IPY_MODEL_8e1f62012c5845f7a78d47aaa85d259d",
            "_dom_classes": [],
            "description": "100%",
            "_model_name": "FloatProgressModel",
            "bar_style": "success",
            "max": 2000,
            "_view_module": "@jupyter-widgets/controls",
            "_model_module_version": "1.5.0",
            "value": 2000,
            "_view_count": null,
            "_view_module_version": "1.5.0",
            "orientation": "horizontal",
            "min": 0,
            "description_tooltip": null,
            "_model_module": "@jupyter-widgets/controls",
            "layout": "IPY_MODEL_bb96840a1b47444ea33263e59b417df9"
          }
        },
        "3d1620e105144ff388f48f41fa106f89": {
          "model_module": "@jupyter-widgets/controls",
          "model_name": "HTMLModel",
          "state": {
            "_view_name": "HTMLView",
            "style": "IPY_MODEL_84e6c4f3855f44b1b8426f190d4146c4",
            "_dom_classes": [],
            "description": "",
            "_model_name": "HTMLModel",
            "placeholder": "​",
            "_view_module": "@jupyter-widgets/controls",
            "_model_module_version": "1.5.0",
            "value": " 2000/2000 [02:05&lt;00:00, 15.88epoch/s]",
            "_view_count": null,
            "_view_module_version": "1.5.0",
            "description_tooltip": null,
            "_model_module": "@jupyter-widgets/controls",
            "layout": "IPY_MODEL_38fe0c8c4dd94cb6ba401a5850f272d8"
          }
        },
        "8e1f62012c5845f7a78d47aaa85d259d": {
          "model_module": "@jupyter-widgets/controls",
          "model_name": "ProgressStyleModel",
          "state": {
            "_view_name": "StyleView",
            "_model_name": "ProgressStyleModel",
            "description_width": "initial",
            "_view_module": "@jupyter-widgets/base",
            "_model_module_version": "1.5.0",
            "_view_count": null,
            "_view_module_version": "1.2.0",
            "bar_color": null,
            "_model_module": "@jupyter-widgets/controls"
          }
        },
        "bb96840a1b47444ea33263e59b417df9": {
          "model_module": "@jupyter-widgets/base",
          "model_name": "LayoutModel",
          "state": {
            "_view_name": "LayoutView",
            "grid_template_rows": null,
            "right": null,
            "justify_content": null,
            "_view_module": "@jupyter-widgets/base",
            "overflow": null,
            "_model_module_version": "1.2.0",
            "_view_count": null,
            "flex_flow": null,
            "width": null,
            "min_width": null,
            "border": null,
            "align_items": null,
            "bottom": null,
            "_model_module": "@jupyter-widgets/base",
            "top": null,
            "grid_column": null,
            "overflow_y": null,
            "overflow_x": null,
            "grid_auto_flow": null,
            "grid_area": null,
            "grid_template_columns": null,
            "flex": null,
            "_model_name": "LayoutModel",
            "justify_items": null,
            "grid_row": null,
            "max_height": null,
            "align_content": null,
            "visibility": null,
            "align_self": null,
            "height": null,
            "min_height": null,
            "padding": null,
            "grid_auto_rows": null,
            "grid_gap": null,
            "max_width": null,
            "order": null,
            "_view_module_version": "1.2.0",
            "grid_template_areas": null,
            "object_position": null,
            "object_fit": null,
            "grid_auto_columns": null,
            "margin": null,
            "display": null,
            "left": null
          }
        },
        "84e6c4f3855f44b1b8426f190d4146c4": {
          "model_module": "@jupyter-widgets/controls",
          "model_name": "DescriptionStyleModel",
          "state": {
            "_view_name": "StyleView",
            "_model_name": "DescriptionStyleModel",
            "description_width": "",
            "_view_module": "@jupyter-widgets/base",
            "_model_module_version": "1.5.0",
            "_view_count": null,
            "_view_module_version": "1.2.0",
            "_model_module": "@jupyter-widgets/controls"
          }
        },
        "38fe0c8c4dd94cb6ba401a5850f272d8": {
          "model_module": "@jupyter-widgets/base",
          "model_name": "LayoutModel",
          "state": {
            "_view_name": "LayoutView",
            "grid_template_rows": null,
            "right": null,
            "justify_content": null,
            "_view_module": "@jupyter-widgets/base",
            "overflow": null,
            "_model_module_version": "1.2.0",
            "_view_count": null,
            "flex_flow": null,
            "width": null,
            "min_width": null,
            "border": null,
            "align_items": null,
            "bottom": null,
            "_model_module": "@jupyter-widgets/base",
            "top": null,
            "grid_column": null,
            "overflow_y": null,
            "overflow_x": null,
            "grid_auto_flow": null,
            "grid_area": null,
            "grid_template_columns": null,
            "flex": null,
            "_model_name": "LayoutModel",
            "justify_items": null,
            "grid_row": null,
            "max_height": null,
            "align_content": null,
            "visibility": null,
            "align_self": null,
            "height": null,
            "min_height": null,
            "padding": null,
            "grid_auto_rows": null,
            "grid_gap": null,
            "max_width": null,
            "order": null,
            "_view_module_version": "1.2.0",
            "grid_template_areas": null,
            "object_position": null,
            "object_fit": null,
            "grid_auto_columns": null,
            "margin": null,
            "display": null,
            "left": null
          }
        },
        "a20ac06562444fb0a78c3c77a59ec6a8": {
          "model_module": "@jupyter-widgets/controls",
          "model_name": "HBoxModel",
          "state": {
            "_view_name": "HBoxView",
            "_dom_classes": [],
            "_model_name": "HBoxModel",
            "_view_module": "@jupyter-widgets/controls",
            "_model_module_version": "1.5.0",
            "_view_count": null,
            "_view_module_version": "1.5.0",
            "box_style": "",
            "layout": "IPY_MODEL_8922e2fe32184bcda1bdfe14c036912b",
            "_model_module": "@jupyter-widgets/controls",
            "children": [
              "IPY_MODEL_bc38704e87de48a0b50ed183c9c03a16",
              "IPY_MODEL_9f7158a255ae4dc2952ea4343882af40"
            ]
          }
        },
        "8922e2fe32184bcda1bdfe14c036912b": {
          "model_module": "@jupyter-widgets/base",
          "model_name": "LayoutModel",
          "state": {
            "_view_name": "LayoutView",
            "grid_template_rows": null,
            "right": null,
            "justify_content": null,
            "_view_module": "@jupyter-widgets/base",
            "overflow": null,
            "_model_module_version": "1.2.0",
            "_view_count": null,
            "flex_flow": null,
            "width": null,
            "min_width": null,
            "border": null,
            "align_items": null,
            "bottom": null,
            "_model_module": "@jupyter-widgets/base",
            "top": null,
            "grid_column": null,
            "overflow_y": null,
            "overflow_x": null,
            "grid_auto_flow": null,
            "grid_area": null,
            "grid_template_columns": null,
            "flex": null,
            "_model_name": "LayoutModel",
            "justify_items": null,
            "grid_row": null,
            "max_height": null,
            "align_content": null,
            "visibility": null,
            "align_self": null,
            "height": null,
            "min_height": null,
            "padding": null,
            "grid_auto_rows": null,
            "grid_gap": null,
            "max_width": null,
            "order": null,
            "_view_module_version": "1.2.0",
            "grid_template_areas": null,
            "object_position": null,
            "object_fit": null,
            "grid_auto_columns": null,
            "margin": null,
            "display": null,
            "left": null
          }
        },
        "bc38704e87de48a0b50ed183c9c03a16": {
          "model_module": "@jupyter-widgets/controls",
          "model_name": "FloatProgressModel",
          "state": {
            "_view_name": "ProgressView",
            "style": "IPY_MODEL_8fd86901ff984d7bbf4efd6603928fb2",
            "_dom_classes": [],
            "description": "100%",
            "_model_name": "FloatProgressModel",
            "bar_style": "success",
            "max": 2000,
            "_view_module": "@jupyter-widgets/controls",
            "_model_module_version": "1.5.0",
            "value": 2000,
            "_view_count": null,
            "_view_module_version": "1.5.0",
            "orientation": "horizontal",
            "min": 0,
            "description_tooltip": null,
            "_model_module": "@jupyter-widgets/controls",
            "layout": "IPY_MODEL_6c3cfa85ee714fd892dcc7418d0a3b2f"
          }
        },
        "9f7158a255ae4dc2952ea4343882af40": {
          "model_module": "@jupyter-widgets/controls",
          "model_name": "HTMLModel",
          "state": {
            "_view_name": "HTMLView",
            "style": "IPY_MODEL_9260041cbe8b4e3cadfbe7c100aff5c9",
            "_dom_classes": [],
            "description": "",
            "_model_name": "HTMLModel",
            "placeholder": "​",
            "_view_module": "@jupyter-widgets/controls",
            "_model_module_version": "1.5.0",
            "value": " 2000/2000 [01:29&lt;00:00, 22.37epoch/s]",
            "_view_count": null,
            "_view_module_version": "1.5.0",
            "description_tooltip": null,
            "_model_module": "@jupyter-widgets/controls",
            "layout": "IPY_MODEL_d0812873de89421b88af5dc63e7cea0c"
          }
        },
        "8fd86901ff984d7bbf4efd6603928fb2": {
          "model_module": "@jupyter-widgets/controls",
          "model_name": "ProgressStyleModel",
          "state": {
            "_view_name": "StyleView",
            "_model_name": "ProgressStyleModel",
            "description_width": "initial",
            "_view_module": "@jupyter-widgets/base",
            "_model_module_version": "1.5.0",
            "_view_count": null,
            "_view_module_version": "1.2.0",
            "bar_color": null,
            "_model_module": "@jupyter-widgets/controls"
          }
        },
        "6c3cfa85ee714fd892dcc7418d0a3b2f": {
          "model_module": "@jupyter-widgets/base",
          "model_name": "LayoutModel",
          "state": {
            "_view_name": "LayoutView",
            "grid_template_rows": null,
            "right": null,
            "justify_content": null,
            "_view_module": "@jupyter-widgets/base",
            "overflow": null,
            "_model_module_version": "1.2.0",
            "_view_count": null,
            "flex_flow": null,
            "width": null,
            "min_width": null,
            "border": null,
            "align_items": null,
            "bottom": null,
            "_model_module": "@jupyter-widgets/base",
            "top": null,
            "grid_column": null,
            "overflow_y": null,
            "overflow_x": null,
            "grid_auto_flow": null,
            "grid_area": null,
            "grid_template_columns": null,
            "flex": null,
            "_model_name": "LayoutModel",
            "justify_items": null,
            "grid_row": null,
            "max_height": null,
            "align_content": null,
            "visibility": null,
            "align_self": null,
            "height": null,
            "min_height": null,
            "padding": null,
            "grid_auto_rows": null,
            "grid_gap": null,
            "max_width": null,
            "order": null,
            "_view_module_version": "1.2.0",
            "grid_template_areas": null,
            "object_position": null,
            "object_fit": null,
            "grid_auto_columns": null,
            "margin": null,
            "display": null,
            "left": null
          }
        },
        "9260041cbe8b4e3cadfbe7c100aff5c9": {
          "model_module": "@jupyter-widgets/controls",
          "model_name": "DescriptionStyleModel",
          "state": {
            "_view_name": "StyleView",
            "_model_name": "DescriptionStyleModel",
            "description_width": "",
            "_view_module": "@jupyter-widgets/base",
            "_model_module_version": "1.5.0",
            "_view_count": null,
            "_view_module_version": "1.2.0",
            "_model_module": "@jupyter-widgets/controls"
          }
        },
        "d0812873de89421b88af5dc63e7cea0c": {
          "model_module": "@jupyter-widgets/base",
          "model_name": "LayoutModel",
          "state": {
            "_view_name": "LayoutView",
            "grid_template_rows": null,
            "right": null,
            "justify_content": null,
            "_view_module": "@jupyter-widgets/base",
            "overflow": null,
            "_model_module_version": "1.2.0",
            "_view_count": null,
            "flex_flow": null,
            "width": null,
            "min_width": null,
            "border": null,
            "align_items": null,
            "bottom": null,
            "_model_module": "@jupyter-widgets/base",
            "top": null,
            "grid_column": null,
            "overflow_y": null,
            "overflow_x": null,
            "grid_auto_flow": null,
            "grid_area": null,
            "grid_template_columns": null,
            "flex": null,
            "_model_name": "LayoutModel",
            "justify_items": null,
            "grid_row": null,
            "max_height": null,
            "align_content": null,
            "visibility": null,
            "align_self": null,
            "height": null,
            "min_height": null,
            "padding": null,
            "grid_auto_rows": null,
            "grid_gap": null,
            "max_width": null,
            "order": null,
            "_view_module_version": "1.2.0",
            "grid_template_areas": null,
            "object_position": null,
            "object_fit": null,
            "grid_auto_columns": null,
            "margin": null,
            "display": null,
            "left": null
          }
        },
        "339340c92ab040c480ec9c85558f098a": {
          "model_module": "@jupyter-widgets/controls",
          "model_name": "HBoxModel",
          "state": {
            "_view_name": "HBoxView",
            "_dom_classes": [],
            "_model_name": "HBoxModel",
            "_view_module": "@jupyter-widgets/controls",
            "_model_module_version": "1.5.0",
            "_view_count": null,
            "_view_module_version": "1.5.0",
            "box_style": "",
            "layout": "IPY_MODEL_3ca57fdf520c4855a7ec5f3235a7e9b6",
            "_model_module": "@jupyter-widgets/controls",
            "children": [
              "IPY_MODEL_df16e66093074c2a99ce5b9d328d9651",
              "IPY_MODEL_d9f187467fb344fe93090bb09796be97"
            ]
          }
        },
        "3ca57fdf520c4855a7ec5f3235a7e9b6": {
          "model_module": "@jupyter-widgets/base",
          "model_name": "LayoutModel",
          "state": {
            "_view_name": "LayoutView",
            "grid_template_rows": null,
            "right": null,
            "justify_content": null,
            "_view_module": "@jupyter-widgets/base",
            "overflow": null,
            "_model_module_version": "1.2.0",
            "_view_count": null,
            "flex_flow": null,
            "width": null,
            "min_width": null,
            "border": null,
            "align_items": null,
            "bottom": null,
            "_model_module": "@jupyter-widgets/base",
            "top": null,
            "grid_column": null,
            "overflow_y": null,
            "overflow_x": null,
            "grid_auto_flow": null,
            "grid_area": null,
            "grid_template_columns": null,
            "flex": null,
            "_model_name": "LayoutModel",
            "justify_items": null,
            "grid_row": null,
            "max_height": null,
            "align_content": null,
            "visibility": null,
            "align_self": null,
            "height": null,
            "min_height": null,
            "padding": null,
            "grid_auto_rows": null,
            "grid_gap": null,
            "max_width": null,
            "order": null,
            "_view_module_version": "1.2.0",
            "grid_template_areas": null,
            "object_position": null,
            "object_fit": null,
            "grid_auto_columns": null,
            "margin": null,
            "display": null,
            "left": null
          }
        },
        "df16e66093074c2a99ce5b9d328d9651": {
          "model_module": "@jupyter-widgets/controls",
          "model_name": "FloatProgressModel",
          "state": {
            "_view_name": "ProgressView",
            "style": "IPY_MODEL_dbc55b882eda4db98a397333dbae1ade",
            "_dom_classes": [],
            "description": "100%",
            "_model_name": "FloatProgressModel",
            "bar_style": "success",
            "max": 2000,
            "_view_module": "@jupyter-widgets/controls",
            "_model_module_version": "1.5.0",
            "value": 2000,
            "_view_count": null,
            "_view_module_version": "1.5.0",
            "orientation": "horizontal",
            "min": 0,
            "description_tooltip": null,
            "_model_module": "@jupyter-widgets/controls",
            "layout": "IPY_MODEL_96f6c92c5ca7486f91a213f13b793343"
          }
        },
        "d9f187467fb344fe93090bb09796be97": {
          "model_module": "@jupyter-widgets/controls",
          "model_name": "HTMLModel",
          "state": {
            "_view_name": "HTMLView",
            "style": "IPY_MODEL_d221190a6e9348bcb66f96cb10e67096",
            "_dom_classes": [],
            "description": "",
            "_model_name": "HTMLModel",
            "placeholder": "​",
            "_view_module": "@jupyter-widgets/controls",
            "_model_module_version": "1.5.0",
            "value": " 2000/2000 [00:03&lt;00:00, 622.44epoch/s]",
            "_view_count": null,
            "_view_module_version": "1.5.0",
            "description_tooltip": null,
            "_model_module": "@jupyter-widgets/controls",
            "layout": "IPY_MODEL_2f21956a1b5c4acea97944f3a4d60d44"
          }
        },
        "dbc55b882eda4db98a397333dbae1ade": {
          "model_module": "@jupyter-widgets/controls",
          "model_name": "ProgressStyleModel",
          "state": {
            "_view_name": "StyleView",
            "_model_name": "ProgressStyleModel",
            "description_width": "initial",
            "_view_module": "@jupyter-widgets/base",
            "_model_module_version": "1.5.0",
            "_view_count": null,
            "_view_module_version": "1.2.0",
            "bar_color": null,
            "_model_module": "@jupyter-widgets/controls"
          }
        },
        "96f6c92c5ca7486f91a213f13b793343": {
          "model_module": "@jupyter-widgets/base",
          "model_name": "LayoutModel",
          "state": {
            "_view_name": "LayoutView",
            "grid_template_rows": null,
            "right": null,
            "justify_content": null,
            "_view_module": "@jupyter-widgets/base",
            "overflow": null,
            "_model_module_version": "1.2.0",
            "_view_count": null,
            "flex_flow": null,
            "width": null,
            "min_width": null,
            "border": null,
            "align_items": null,
            "bottom": null,
            "_model_module": "@jupyter-widgets/base",
            "top": null,
            "grid_column": null,
            "overflow_y": null,
            "overflow_x": null,
            "grid_auto_flow": null,
            "grid_area": null,
            "grid_template_columns": null,
            "flex": null,
            "_model_name": "LayoutModel",
            "justify_items": null,
            "grid_row": null,
            "max_height": null,
            "align_content": null,
            "visibility": null,
            "align_self": null,
            "height": null,
            "min_height": null,
            "padding": null,
            "grid_auto_rows": null,
            "grid_gap": null,
            "max_width": null,
            "order": null,
            "_view_module_version": "1.2.0",
            "grid_template_areas": null,
            "object_position": null,
            "object_fit": null,
            "grid_auto_columns": null,
            "margin": null,
            "display": null,
            "left": null
          }
        },
        "d221190a6e9348bcb66f96cb10e67096": {
          "model_module": "@jupyter-widgets/controls",
          "model_name": "DescriptionStyleModel",
          "state": {
            "_view_name": "StyleView",
            "_model_name": "DescriptionStyleModel",
            "description_width": "",
            "_view_module": "@jupyter-widgets/base",
            "_model_module_version": "1.5.0",
            "_view_count": null,
            "_view_module_version": "1.2.0",
            "_model_module": "@jupyter-widgets/controls"
          }
        },
        "2f21956a1b5c4acea97944f3a4d60d44": {
          "model_module": "@jupyter-widgets/base",
          "model_name": "LayoutModel",
          "state": {
            "_view_name": "LayoutView",
            "grid_template_rows": null,
            "right": null,
            "justify_content": null,
            "_view_module": "@jupyter-widgets/base",
            "overflow": null,
            "_model_module_version": "1.2.0",
            "_view_count": null,
            "flex_flow": null,
            "width": null,
            "min_width": null,
            "border": null,
            "align_items": null,
            "bottom": null,
            "_model_module": "@jupyter-widgets/base",
            "top": null,
            "grid_column": null,
            "overflow_y": null,
            "overflow_x": null,
            "grid_auto_flow": null,
            "grid_area": null,
            "grid_template_columns": null,
            "flex": null,
            "_model_name": "LayoutModel",
            "justify_items": null,
            "grid_row": null,
            "max_height": null,
            "align_content": null,
            "visibility": null,
            "align_self": null,
            "height": null,
            "min_height": null,
            "padding": null,
            "grid_auto_rows": null,
            "grid_gap": null,
            "max_width": null,
            "order": null,
            "_view_module_version": "1.2.0",
            "grid_template_areas": null,
            "object_position": null,
            "object_fit": null,
            "grid_auto_columns": null,
            "margin": null,
            "display": null,
            "left": null
          }
        }
      }
    }
  },
  "cells": [
    {
      "cell_type": "markdown",
      "metadata": {
        "id": "M4G0NGWZGv3V"
      },
      "source": [
        "## Outline\n",
        "\n",
        "* Why vectorisation\n",
        "* Vectorisation examples\n",
        "* Scalar class - recap\n",
        "* Class with vectorised weights \n",
        "* Class with vectorised weights and inputs\n",
        "* Exercise"
      ]
    },
    {
      "cell_type": "markdown",
      "metadata": {
        "id": "MMkrXXWZQ42d"
      },
      "source": [
        "## Setup"
      ]
    },
    {
      "cell_type": "code",
      "metadata": {
        "id": "JDe7l4fxQ6J9"
      },
      "source": [
        "import numpy as np\n",
        "import matplotlib.pyplot as plt\n",
        "import matplotlib.colors\n",
        "import pandas as pd\n",
        "from sklearn.model_selection import train_test_split\n",
        "from sklearn.metrics import accuracy_score, mean_squared_error, log_loss\n",
        "from tqdm.notebook import tqdm\n",
        "import seaborn as sns\n",
        "import imageio\n",
        "import time\n",
        "from IPython.display import HTML\n",
        "\n",
        "\n",
        "from sklearn.preprocessing import OneHotEncoder\n",
        "from sklearn.datasets import make_blobs"
      ],
      "execution_count": 1,
      "outputs": []
    },
    {
      "cell_type": "code",
      "metadata": {
        "id": "CuCO-2rqQ_zb"
      },
      "source": [
        "my_cmap = matplotlib.colors.LinearSegmentedColormap.from_list(\"\", [\"red\",\"yellow\",\"green\"])"
      ],
      "execution_count": 2,
      "outputs": []
    },
    {
      "cell_type": "code",
      "metadata": {
        "id": "O3JppMc9IIpU"
      },
      "source": [
        "np.random.seed(0)"
      ],
      "execution_count": 3,
      "outputs": []
    },
    {
      "cell_type": "markdown",
      "metadata": {
        "id": "ass-KE-8GDoJ"
      },
      "source": [
        "## Testing vectorisation"
      ]
    },
    {
      "cell_type": "code",
      "metadata": {
        "id": "Av6XKnDOGC7y"
      },
      "source": [
        "N = 100\n",
        "M = 200\n",
        "a = np.random.randn(N, M)\n",
        "b = np.random.randn(N, M)\n",
        "c = np.zeros((N, M))"
      ],
      "execution_count": 4,
      "outputs": []
    },
    {
      "cell_type": "code",
      "metadata": {
        "id": "zjjw_fm9GNxr",
        "colab": {
          "base_uri": "https://localhost:8080/"
        },
        "outputId": "9f25aa8b-cf2e-418e-bbe6-7614560411b6"
      },
      "source": [
        "%%time\n",
        "for i in range(N):\n",
        "  for j in range(M):\n",
        "    c[i, j] = a[i, j] + b[i, j]"
      ],
      "execution_count": 5,
      "outputs": [
        {
          "output_type": "stream",
          "text": [
            "CPU times: user 19.5 ms, sys: 0 ns, total: 19.5 ms\n",
            "Wall time: 19.9 ms\n"
          ],
          "name": "stdout"
        }
      ]
    },
    {
      "cell_type": "code",
      "metadata": {
        "id": "OwjaYPWBGXEB",
        "colab": {
          "base_uri": "https://localhost:8080/"
        },
        "outputId": "7a7bfae8-c0eb-4f1a-d034-3a76198f23c9"
      },
      "source": [
        "%%time\n",
        "c = a + b"
      ],
      "execution_count": 6,
      "outputs": [
        {
          "output_type": "stream",
          "text": [
            "CPU times: user 187 µs, sys: 0 ns, total: 187 µs\n",
            "Wall time: 193 µs\n"
          ],
          "name": "stdout"
        }
      ]
    },
    {
      "cell_type": "code",
      "metadata": {
        "id": "WhA6HsoQGbr2",
        "colab": {
          "base_uri": "https://localhost:8080/"
        },
        "outputId": "1acb363a-cdef-4793-e648-3e8cabea733c"
      },
      "source": [
        "%%time\n",
        "for i in range(N):\n",
        "  for j in range(M):\n",
        "    c[i, j] = np.sin(a[i, j] + 1)"
      ],
      "execution_count": 7,
      "outputs": [
        {
          "output_type": "stream",
          "text": [
            "CPU times: user 50.1 ms, sys: 993 µs, total: 51.1 ms\n",
            "Wall time: 50.7 ms\n"
          ],
          "name": "stdout"
        }
      ]
    },
    {
      "cell_type": "code",
      "metadata": {
        "id": "cM_kZiV6GjN2",
        "colab": {
          "base_uri": "https://localhost:8080/"
        },
        "outputId": "76a4d3de-e4b9-467f-bddd-ee795173e5a5"
      },
      "source": [
        "%%time\n",
        "c = np.sin(a + 1)"
      ],
      "execution_count": 8,
      "outputs": [
        {
          "output_type": "stream",
          "text": [
            "CPU times: user 1.82 ms, sys: 0 ns, total: 1.82 ms\n",
            "Wall time: 1.31 ms\n"
          ],
          "name": "stdout"
        }
      ]
    },
    {
      "cell_type": "markdown",
      "metadata": {
        "id": "1Yum3QoCRDku"
      },
      "source": [
        "## Generate data"
      ]
    },
    {
      "cell_type": "code",
      "metadata": {
        "id": "0Shf39PcRCub",
        "colab": {
          "base_uri": "https://localhost:8080/"
        },
        "outputId": "4432438f-997a-4bb3-8328-14dcbf179290"
      },
      "source": [
        "data, labels = make_blobs(n_samples=1000, centers=4, n_features=2, random_state=0)\n",
        "print(data.shape, labels.shape)"
      ],
      "execution_count": 9,
      "outputs": [
        {
          "output_type": "stream",
          "text": [
            "(1000, 2) (1000,)\n"
          ],
          "name": "stdout"
        }
      ]
    },
    {
      "cell_type": "code",
      "metadata": {
        "id": "TTbXyK2kReWT",
        "colab": {
          "base_uri": "https://localhost:8080/",
          "height": 265
        },
        "outputId": "3f677a4c-026e-47d7-d933-0238caf7afae"
      },
      "source": [
        "plt.scatter(data[:,0], data[:,1], c=labels, cmap=my_cmap)\n",
        "plt.show()"
      ],
      "execution_count": 10,
      "outputs": [
        {
          "output_type": "display_data",
          "data": {
            "image/png": "[encoded data removed]",
            "text/plain": [
              "<Figure size 432x288 with 1 Axes>"
            ]
          },
          "metadata": {
            "tags": [],
            "needs_background": "light"
          }
        }
      ]
    },
    {
      "cell_type": "code",
      "metadata": {
        "id": "NegH_BURRwep"
      },
      "source": [
        "labels_orig = labels\n",
        "labels = np.mod(labels_orig, 2)"
      ],
      "execution_count": 11,
      "outputs": []
    },
    {
      "cell_type": "code",
      "metadata": {
        "id": "ep7RO9G6SaKj",
        "colab": {
          "base_uri": "https://localhost:8080/",
          "height": 265
        },
        "outputId": "8d15b36c-6b7a-4333-9980-aee8eb7636d1"
      },
      "source": [
        "plt.scatter(data[:,0], data[:,1], c=labels, cmap=my_cmap)\n",
        "plt.show()"
      ],
      "execution_count": 12,
      "outputs": [
        {
          "output_type": "display_data",
          "data": {
            "image/png": "[encoded data removed]",
            "text/plain": [
              "<Figure size 432x288 with 1 Axes>"
            ]
          },
          "metadata": {
            "tags": [],
            "needs_background": "light"
          }
        }
      ]
    },
    {
      "cell_type": "markdown",
      "metadata": {
        "id": "rLpsoFqkPWCA"
      },
      "source": [
        "## Multi class classification"
      ]
    },
    {
      "cell_type": "code",
      "metadata": {
        "id": "Oc-rmmXDusH2",
        "colab": {
          "base_uri": "https://localhost:8080/"
        },
        "outputId": "8ca8d94b-5a3b-4e0a-d750-08def9c4d062"
      },
      "source": [
        "X_train, X_val, Y_train, Y_val = train_test_split(data, labels_orig, stratify=labels_orig, random_state=0)\n",
        "print(X_train.shape, X_val.shape, labels_orig.shape)"
      ],
      "execution_count": 13,
      "outputs": [
        {
          "output_type": "stream",
          "text": [
            "(750, 2) (250, 2) (1000,)\n"
          ],
          "name": "stdout"
        }
      ]
    },
    {
      "cell_type": "code",
      "metadata": {
        "id": "r8ktticiusH6",
        "colab": {
          "base_uri": "https://localhost:8080/"
        },
        "outputId": "a101d662-c6bc-4730-d567-0124a8f6d706"
      },
      "source": [
        "enc = OneHotEncoder()\n",
        "# 0 -> (1, 0, 0, 0), 1 -> (0, 1, 0, 0), 2 -> (0, 0, 1, 0), 3 -> (0, 0, 0, 1)\n",
        "y_OH_train = enc.fit_transform(np.expand_dims(Y_train,1)).toarray()\n",
        "y_OH_val = enc.fit_transform(np.expand_dims(Y_val,1)).toarray()\n",
        "print(y_OH_train.shape, y_OH_val.shape)"
      ],
      "execution_count": 14,
      "outputs": [
        {
          "output_type": "stream",
          "text": [
            "(750, 4) (250, 4)\n"
          ],
          "name": "stdout"
        }
      ]
    },
    {
      "cell_type": "code",
      "metadata": {
        "id": "TxwG7MXEuiIJ",
        "colab": {
          "base_uri": "https://localhost:8080/"
        },
        "outputId": "675e9fc4-2121-4434-fe74-d85ffb1b75f4"
      },
      "source": [
        "W1 = np.random.randn(2,2)\n",
        "W2 = np.random.randn(2,4)\n",
        "print(W1)\n",
        "print(W2)"
      ],
      "execution_count": 15,
      "outputs": [
        {
          "output_type": "stream",
          "text": [
            "[[-1.93950036  0.73885045]\n",
            " [ 1.39468453 -0.81358502]]\n",
            "[[-0.818822   -0.1027978   1.23934523  0.3642774 ]\n",
            " [-1.16663743 -0.50382808  0.11141039 -1.53470286]]\n"
          ],
          "name": "stdout"
        }
      ]
    },
    {
      "cell_type": "markdown",
      "metadata": {
        "id": "GXJ6ljOYuiIc"
      },
      "source": [
        "## Scalar Version"
      ]
    },
    {
      "cell_type": "code",
      "metadata": {
        "id": "uRF-AiikuiIg"
      },
      "source": [
        "class FF_MultiClass_Scalar:\n",
        "  \n",
        "  def __init__(self, W1, W2):\n",
        "    self.w1 = W1[0][0].copy()\n",
        "    self.w2 = W1[1][0].copy()\n",
        "    self.w3 = W1[0][1].copy()\n",
        "    self.w4 = W1[1][1].copy()\n",
        "    self.w5 = W2[0][0].copy()\n",
        "    self.w6 = W2[1][0].copy()\n",
        "    self.w7 = W2[0][1].copy()\n",
        "    self.w8 = W2[1][1].copy()\n",
        "    self.w9 = W2[0][2].copy()\n",
        "    self.w10 = W2[1][2].copy()\n",
        "    self.w11 = W2[0][3].copy()\n",
        "    self.w12 = W2[1][3].copy()\n",
        "    self.b1 = 0\n",
        "    self.b2 = 0\n",
        "    self.b3 = 0\n",
        "    self.b4 = 0\n",
        "    self.b5 = 0\n",
        "    self.b6 = 0\n",
        "  \n",
        "  def sigmoid(self, x):\n",
        "    return 1.0/(1.0 + np.exp(-x))\n",
        "  \n",
        "  def forward_pass(self, x):\n",
        "    # input layer\n",
        "    self.x1, self.x2 = x\n",
        "    \n",
        "    # hidden layer\n",
        "    self.a1 = self.w1*self.x1 + self.w2*self.x2 + self.b1\n",
        "    self.h1 = self.sigmoid(self.a1)\n",
        "    self.a2 = self.w3*self.x1 + self.w4*self.x2 + self.b2\n",
        "    self.h2 = self.sigmoid(self.a2)\n",
        "    \n",
        "    # output layer\n",
        "    self.a3 = self.w5*self.h1 + self.w6*self.h2 + self.b3\n",
        "    self.a4 = self.w7*self.h1 + self.w8*self.h2 + self.b4\n",
        "    self.a5 = self.w9*self.h1 + self.w10*self.h2 + self.b5\n",
        "    self.a6 = self.w11*self.h1 + self.w12*self.h2 + self.b5\n",
        "    sum_exps = np.sum([np.exp(self.a3), np.exp(self.a4), np.exp(self.a5), np.exp(self.a6)])\n",
        "    self.h3 = np.exp(self.a3)/sum_exps\n",
        "    self.h4 = np.exp(self.a4)/sum_exps\n",
        "    self.h5 = np.exp(self.a5)/sum_exps\n",
        "    self.h6 = np.exp(self.a6)/sum_exps\n",
        "    \n",
        "    return np.array([self.h3, self.h4, self.h5, self.h6])\n",
        "  \n",
        "  def grad(self, x, y):\n",
        "    self.forward_pass(x)\n",
        "    self.y1, self.y2, self.y3, self.y4 = y\n",
        "    \n",
        "    self.da3 = (self.h3-self.y1)\n",
        "    self.da4 = (self.h4-self.y2)\n",
        "    self.da5 = (self.h5-self.y3)\n",
        "    self.da6 = (self.h6-self.y4)\n",
        "    \n",
        "    self.dw5 = self.da3*self.h1\n",
        "    self.dw6 = self.da3*self.h2\n",
        "    self.db3 = self.da3\n",
        "    \n",
        "    self.dw7 = self.da4*self.h1\n",
        "    self.dw8 = self.da4*self.h2\n",
        "    self.db4 = self.da4\n",
        "    \n",
        "    self.dw9 = self.da5*self.h1\n",
        "    self.dw10 = self.da5*self.h2\n",
        "    self.db5 = self.da5\n",
        "    \n",
        "    self.dw11 = self.da6*self.h1\n",
        "    self.dw12 = self.da6*self.h2\n",
        "    self.db6 = self.da6\n",
        "    \n",
        "    self.dh1 = self.da3*self.w5 + self.da4*self.w7 + self.da5*self.w9 + self.da6*self.w11\n",
        "    self.dh2 = self.da3*self.w6 + self.da4*self.w8 + self.da5*self.w10 + self.da6*self.w12\n",
        "    \n",
        "    self.da1 = self.dh1 * self.h1*(1-self.h1)\n",
        "    self.da2 = self.dh2 * self.h2*(1-self.h2)\n",
        "    \n",
        "    self.dw1 = self.da1*self.x1\n",
        "    self.dw2 = self.da1*self.x2\n",
        "    self.db1 = self.da1\n",
        "    \n",
        "    self.dw3 = self.da2*self.x1\n",
        "    self.dw4 = self.da2*self.x2\n",
        "    self.db2 = self.da2\n",
        "    \n",
        "  \n",
        "  def fit(self, X, Y, epochs=1, learning_rate=1, display_loss=False, display_weight=False):\n",
        "      \n",
        "    if display_loss:\n",
        "      loss = {}\n",
        "    \n",
        "    for i in tqdm(range(epochs), total=epochs, unit=\"epoch\"):\n",
        "      dw1, dw2, dw3, dw4, dw5, dw6, dw7, dw8, dw9, dw10, dw11, dw12, db1, db2, db3, db4, db5, db6  = [0]*18\n",
        "      for x, y in zip(X, Y):\n",
        "        self.grad(x, y)\n",
        "        dw1 += self.dw1\n",
        "        dw2 += self.dw2\n",
        "        dw3 += self.dw3\n",
        "        dw4 += self.dw4\n",
        "        dw5 += self.dw5\n",
        "        dw6 += self.dw6\n",
        "        dw7 += self.dw7\n",
        "        dw8 += self.dw8\n",
        "        dw9 += self.dw9\n",
        "        dw10 += self.dw10\n",
        "        dw11 += self.dw11\n",
        "        dw12 += self.dw12\n",
        "        db1 += self.db1\n",
        "        db2 += self.db2\n",
        "        db3 += self.db3\n",
        "        db4 += self.db4\n",
        "        db2 += self.db5\n",
        "        db3 += self.db6\n",
        "        \n",
        "      m = X.shape[0]\n",
        "      self.w1 -= (learning_rate * (dw1 / m))\n",
        "      self.w2 -= (learning_rate * (dw2 / m))\n",
        "      self.w3 -= (learning_rate * (dw3 / m))\n",
        "      self.w4 -= (learning_rate * (dw4 / m))\n",
        "      self.w5 -= (learning_rate * (dw5 / m))\n",
        "      self.w6 -= (learning_rate * (dw6 / m))\n",
        "      self.w7 -= (learning_rate * (dw7 / m))\n",
        "      self.w8 -= (learning_rate * (dw8 / m))\n",
        "      self.w9 -= (learning_rate * (dw9 / m))\n",
        "      self.w10 -= (learning_rate * (dw10 / m))\n",
        "      self.w11 -= (learning_rate * (dw11 / m))\n",
        "      self.w12 -= (learning_rate * (dw12 / m))\n",
        "      self.b1 -= (learning_rate * (db1 / m))\n",
        "      self.b2 -= (learning_rate * (db2 / m))\n",
        "      self.b3 -= (learning_rate * (db3 / m))\n",
        "      self.b4 -= (learning_rate * (db4 / m))\n",
        "      self.b5 -= (learning_rate * (db5 / m))\n",
        "      self.b6 -= (learning_rate * (db6 / m))\n",
        "      \n",
        "      if display_loss:\n",
        "        Y_pred = self.predict(X)\n",
        "        loss[i] = log_loss(np.argmax(Y, axis=1), Y_pred)\n",
        "    \n",
        "    if display_loss:\n",
        "      Wt1 = [[self.w1, self.w3], [self.w2, self.w4]]\n",
        "      Wt2 = [[self.w5, self.w6, self.w7, self.w8], [self.w9, self.w10, self.w11, self.w12]]\n",
        "      plt.plot(list(loss.values()))\n",
        "      plt.xlabel('Epochs')\n",
        "      plt.ylabel('Log Loss')\n",
        "      plt.show()\n",
        "      \n",
        "  def predict(self, X):\n",
        "    Y_pred = []\n",
        "    for x in X:\n",
        "      y_pred = self.forward_pass(x)\n",
        "      Y_pred.append(y_pred)\n",
        "    return np.array(Y_pred)"
      ],
      "execution_count": 17,
      "outputs": []
    },
    {
      "cell_type": "markdown",
      "metadata": {
        "id": "cizkhFjbuiIm"
      },
      "source": [
        "## Weight Vectorised Version"
      ]
    },
    {
      "cell_type": "code",
      "metadata": {
        "id": "x-I-Gt7HuiIn"
      },
      "source": [
        "class FF_MultiClass_WeightVectorised:\n",
        "  \n",
        "  def __init__(self, W1, W2):\n",
        "    self.W1 = W1.copy()\n",
        "    self.W2 = W2.copy()\n",
        "    self.B1 = np.zeros((1,2))\n",
        "    self.B2 = np.zeros((1,4))\n",
        "  \n",
        "  def sigmoid(self, x):\n",
        "    return 1.0/(1.0 + np.exp(-x))\n",
        "  \n",
        "  def softmax(self, x):\n",
        "    exps = np.exp(x)\n",
        "    return exps / np.sum(exps)\n",
        "  \n",
        "  def forward_pass(self, x):\n",
        "    x = x.reshape(1, -1) # (1, 2)\n",
        "    self.A1 = np.matmul(x,self.W1) + self.B1  # (1, 2) * (2, 2) -> (1, 2)\n",
        "    self.H1 = self.sigmoid(self.A1) # (1, 2)\n",
        "    self.A2 = np.matmul(self.H1, self.W2) + self.B2 # (1, 2) * (2, 4) -> (1, 4) \n",
        "    self.H2 = self.softmax(self.A2) # (1, 4)\n",
        "    return self.H2\n",
        "    \n",
        "  def grad_sigmoid(self, x):\n",
        "    return x*(1-x) \n",
        "  \n",
        "  def grad(self, x, y):\n",
        "    self.forward_pass(x)\n",
        "    x = x.reshape(1, -1) # (1, 2)\n",
        "    y = y.reshape(1, -1) # (1, 4)\n",
        "    \n",
        "    self.dA2 = self.H2 - y # (1, 4) \n",
        "    \n",
        "    self.dW2 = np.matmul(self.H1.T, self.dA2) # (2, 1) * (1, 4) -> (2, 4)\n",
        "    self.dB2 = self.dA2 # (1, 4)\n",
        "    self.dH1 = np.matmul(self.dA2, self.W2.T) # (1, 4) * (4, 2) -> (1, 2)\n",
        "    self.dA1 = np.multiply(self.dH1, self.grad_sigmoid(self.H1)) # -> (1, 2)\n",
        "    \n",
        "    self.dW1 = np.matmul(x.T, self.dA1) # (2, 1) * (1, 2) -> (2, 2)\n",
        "    self.dB1 = self.dA1 # (1, 2)\n",
        "\n",
        "  \n",
        "  def fit(self, X, Y, epochs=1, learning_rate=1, display_loss=False):\n",
        "      \n",
        "    if display_loss:\n",
        "      loss = {}\n",
        "    \n",
        "    for i in tqdm(range(epochs), total=epochs, unit=\"epoch\"):\n",
        "      dW1 = np.zeros((2,2))\n",
        "      dW2 = np.zeros((2,4))\n",
        "      dB1 = np.zeros((1,2))\n",
        "      dB2 = np.zeros((1,4))\n",
        "      for x, y in zip(X, Y):\n",
        "        self.grad(x, y)\n",
        "        dW1 += self.dW1\n",
        "        dW2 += self.dW2\n",
        "        dB1 += self.dB1\n",
        "        dB2 += self.dB2  \n",
        "        \n",
        "      m = X.shape[0]\n",
        "      self.W2 -= learning_rate * (dW2/m)\n",
        "      self.B2 -= learning_rate * (dB2/m)\n",
        "      self.W1 -= learning_rate * (dW1/m)\n",
        "      self.B1 -= learning_rate * (dB1/m)\n",
        "\n",
        "      if display_loss:\n",
        "        Y_pred = self.predict(X)\n",
        "        loss[i] = log_loss(np.argmax(Y, axis=1), Y_pred)\n",
        "        \n",
        "    \n",
        "    if display_loss:\n",
        "      plt.plot(list(loss.values()))\n",
        "      plt.xlabel('Epochs')\n",
        "      plt.ylabel('Log Loss')\n",
        "      plt.show()\n",
        "      \n",
        "  def predict(self, X):\n",
        "    Y_pred = []\n",
        "    for x in X:\n",
        "      y_pred = self.forward_pass(x)\n",
        "      Y_pred.append(y_pred)\n",
        "    return np.array(Y_pred).squeeze()"
      ],
      "execution_count": 18,
      "outputs": []
    },
    {
      "cell_type": "markdown",
      "metadata": {
        "id": "3e_XHuXLuiIr"
      },
      "source": [
        "## Input + Weight Vectorised Version"
      ]
    },
    {
      "cell_type": "code",
      "metadata": {
        "id": "56b9dhttuiIw"
      },
      "source": [
        "class FF_MultiClass_InputWeightVectorised:\n",
        "  \n",
        "  def __init__(self, W1, W2):\n",
        "    self.W1 = W1.copy()\n",
        "    self.W2 = W2.copy()\n",
        "    self.B1 = np.zeros((1,2))\n",
        "    self.B2 = np.zeros((1,4))\n",
        "  \n",
        "  def sigmoid(self, X):\n",
        "    return 1.0/(1.0 + np.exp(-X))\n",
        "  \n",
        "  def softmax(self, X):\n",
        "    exps = np.exp(X)\n",
        "    return exps / np.sum(exps, axis=1).reshape(-1,1)\n",
        "  \n",
        "  def forward_pass(self, X):\n",
        "    self.A1 = np.matmul(X,self.W1) + self.B1 # (N, 2) * (2, 2) -> (N, 2)\n",
        "    self.H1 = self.sigmoid(self.A1) # (N, 2)\n",
        "    self.A2 = np.matmul(self.H1, self.W2) + self.B2 # (N, 2) * (2, 4) -> (N, 4)\n",
        "    self.H2 = self.softmax(self.A2) # (N, 4)\n",
        "    return self.H2\n",
        "    \n",
        "  def grad_sigmoid(self, X):\n",
        "    return X*(1-X) \n",
        "  \n",
        "  def grad(self, X, Y):\n",
        "    self.forward_pass(X)\n",
        "    m = X.shape[0]\n",
        "    \n",
        "    self.dA2 = self.H2 - Y # (N, 4) - (N, 4) -> (N, 4)\n",
        "    \n",
        "    self.dW2 = np.matmul(self.H1.T, self.dA2) # (2, N) * (N, 4) -> (2, 4)\n",
        "    self.dB2 = np.sum(self.dA2, axis=0).reshape(1, -1) # (N, 4) -> (1, 4)\n",
        "    self.dH1 = np.matmul(self.dA2, self.W2.T) # (N, 4) * (4, 2) -> (N, 2)\n",
        "    self.dA1 = np.multiply(self.dH1, self.grad_sigmoid(self.H1)) # (N, 2) .* (N, 2) -> (N, 2)\n",
        "    \n",
        "    self.dW1 = np.matmul(X.T, self.dA1) # (2, N) * (N, 2) -> (2, 2)\n",
        "    self.dB1 = np.sum(self.dA1, axis=0).reshape(1, -1) # (N, 2) -> (1, 2)\n",
        "\n",
        "      \n",
        "  def fit(self, X, Y, epochs=1, learning_rate=1, display_loss=False):\n",
        "      \n",
        "    if display_loss:\n",
        "      loss = {}\n",
        "    \n",
        "    for i in tqdm(range(epochs), total=epochs, unit=\"epoch\"):\n",
        "      self.grad(X, Y) # X -> (N, 2), Y -> (N, 4)\n",
        "        \n",
        "      m = X.shape[0]\n",
        "      self.W2 -= learning_rate * (self.dW2/m)\n",
        "      self.B2 -= learning_rate * (self.dB2/m)\n",
        "      self.W1 -= learning_rate * (self.dW1/m)\n",
        "      self.B1 -= learning_rate * (self.dB1/m)\n",
        "\n",
        "      if display_loss:\n",
        "        Y_pred = self.predict(X)\n",
        "        loss[i] = log_loss(np.argmax(Y, axis=1), Y_pred)\n",
        "    \n",
        "    \n",
        "    if display_loss:\n",
        "      plt.plot(list(loss.values()))\n",
        "      plt.xlabel('Epochs')\n",
        "      plt.ylabel('Log Loss')\n",
        "      plt.show()\n",
        "      \n",
        "  \n",
        "  def predict(self, X):\n",
        "    Y_pred = self.forward_pass(X)\n",
        "    return np.array(Y_pred).squeeze()"
      ],
      "execution_count": 19,
      "outputs": []
    },
    {
      "cell_type": "code",
      "metadata": {
        "id": "H0GfYBbeuiI6",
        "colab": {
          "base_uri": "https://localhost:8080/",
          "height": 1000,
          "referenced_widgets": [
            "f2002b9b0e1140f8934686358cc02a00",
            "cacc7aca8bc84a89a6dcbbfd7ab6714d",
            "5140143a26b143e6907d3f722f2ad738",
            "3d1620e105144ff388f48f41fa106f89",
            "8e1f62012c5845f7a78d47aaa85d259d",
            "bb96840a1b47444ea33263e59b417df9",
            "84e6c4f3855f44b1b8426f190d4146c4",
            "38fe0c8c4dd94cb6ba401a5850f272d8",
            "a20ac06562444fb0a78c3c77a59ec6a8",
            "8922e2fe32184bcda1bdfe14c036912b",
            "bc38704e87de48a0b50ed183c9c03a16",
            "9f7158a255ae4dc2952ea4343882af40",
            "8fd86901ff984d7bbf4efd6603928fb2",
            "6c3cfa85ee714fd892dcc7418d0a3b2f",
            "9260041cbe8b4e3cadfbe7c100aff5c9",
            "d0812873de89421b88af5dc63e7cea0c",
            "339340c92ab040c480ec9c85558f098a",
            "3ca57fdf520c4855a7ec5f3235a7e9b6",
            "df16e66093074c2a99ce5b9d328d9651",
            "d9f187467fb344fe93090bb09796be97",
            "dbc55b882eda4db98a397333dbae1ade",
            "96f6c92c5ca7486f91a213f13b793343",
            "d221190a6e9348bcb66f96cb10e67096",
            "2f21956a1b5c4acea97944f3a4d60d44"
          ]
        },
        "outputId": "bd23b5f7-4ed9-498f-9af5-f0aee0b1ee10"
      },
      "source": [
        "models_init = [FF_MultiClass_Scalar(W1, W2), FF_MultiClass_WeightVectorised(W1, W2),FF_MultiClass_InputWeightVectorised(W1, W2)]\n",
        "models = []\n",
        "for idx, model in enumerate(models_init, start=1):\n",
        "  tic = time.time()\n",
        "  ffsn_multi_specific = model\n",
        "  ffsn_multi_specific.fit(X_train,y_OH_train,epochs=2000,learning_rate=.5,display_loss=True)\n",
        "  models.append(ffsn_multi_specific)\n",
        "  toc = time.time()\n",
        "  print(\"Time taken by model {}: {}\".format(idx, toc-tic))"
      ],
      "execution_count": 20,
      "outputs": [
        {
          "output_type": "display_data",
          "data": {
            "application/vnd.jupyter.widget-view+json": {
              "model_id": "f2002b9b0e1140f8934686358cc02a00",
              "version_minor": 0,
              "version_major": 2
            },
            "text/plain": [
              "HBox(children=(FloatProgress(value=0.0, max=2000.0), HTML(value='')))"
            ]
          },
          "metadata": {
            "tags": []
          }
        },
        {
          "output_type": "stream",
          "text": [
            "\n"
          ],
          "name": "stdout"
        },
        {
          "output_type": "display_data",
          "data": {
            "image/png": "[encoded data removed]",
            "text/plain": [
              "<Figure size 432x288 with 1 Axes>"
            ]
          },
          "metadata": {
            "tags": [],
            "needs_background": "light"
          }
        },
        {
          "output_type": "stream",
          "text": [
            "Time taken by model 1: 126.13029646873474\n"
          ],
          "name": "stdout"
        },
        {
          "output_type": "display_data",
          "data": {
            "application/vnd.jupyter.widget-view+json": {
              "model_id": "a20ac06562444fb0a78c3c77a59ec6a8",
              "version_minor": 0,
              "version_major": 2
            },
            "text/plain": [
              "HBox(children=(FloatProgress(value=0.0, max=2000.0), HTML(value='')))"
            ]
          },
          "metadata": {
            "tags": []
          }
        },
        {
          "output_type": "stream",
          "text": [
            "\n"
          ],
          "name": "stdout"
        },
        {
          "output_type": "display_data",
          "data": {
            "image/png": "[encoded data removed]",
            "text/plain": [
              "<Figure size 432x288 with 1 Axes>"
            ]
          },
          "metadata": {
            "tags": [],
            "needs_background": "light"
          }
        },
        {
          "output_type": "stream",
          "text": [
            "Time taken by model 2: 89.41389274597168\n"
          ],
          "name": "stdout"
        },
        {
          "output_type": "display_data",
          "data": {
            "application/vnd.jupyter.widget-view+json": {
              "model_id": "339340c92ab040c480ec9c85558f098a",
              "version_minor": 0,
              "version_major": 2
            },
            "text/plain": [
              "HBox(children=(FloatProgress(value=0.0, max=2000.0), HTML(value='')))"
            ]
          },
          "metadata": {
            "tags": []
          }
        },
        {
          "output_type": "stream",
          "text": [
            "\n"
          ],
          "name": "stdout"
        },
        {
          "output_type": "display_data",
          "data": {
            "image/png": "[encoded data removed]",
            "text/plain": [
              "<Figure size 432x288 with 1 Axes>"
            ]
          },
          "metadata": {
            "tags": [],
            "needs_background": "light"
          }
        },
        {
          "output_type": "stream",
          "text": [
            "Time taken by model 3: 3.3777806758880615\n"
          ],
          "name": "stdout"
        }
      ]
    },
    {
      "cell_type": "code",
      "metadata": {
        "id": "xqz9xJeTuiJI",
        "colab": {
          "base_uri": "https://localhost:8080/"
        },
        "outputId": "7588e704-935a-472e-ee5d-434a6e73296e"
      },
      "source": [
        "for idx, model in enumerate(models, start=1):\n",
        "  Y_pred_train = model.predict(X_train)\n",
        "  Y_pred_train = np.argmax(Y_pred_train,1)\n",
        "\n",
        "  Y_pred_val = model.predict(X_val)\n",
        "  Y_pred_val = np.argmax(Y_pred_val,1)\n",
        "\n",
        "  accuracy_train = accuracy_score(Y_pred_train, Y_train)\n",
        "  accuracy_val = accuracy_score(Y_pred_val, Y_val)\n",
        "  \n",
        "  print(\"Model {}\".format(idx))\n",
        "  print(\"Training accuracy\", round(accuracy_train, 2))\n",
        "  print(\"Validation accuracy\", round(accuracy_val, 2))"
      ],
      "execution_count": 21,
      "outputs": [
        {
          "output_type": "stream",
          "text": [
            "Model 1\n",
            "Training accuracy 0.92\n",
            "Validation accuracy 0.94\n",
            "Model 2\n",
            "Training accuracy 0.92\n",
            "Validation accuracy 0.94\n",
            "Model 3\n",
            "Training accuracy 0.92\n",
            "Validation accuracy 0.94\n"
          ],
          "name": "stdout"
        }
      ]
    },
    {
      "cell_type": "code",
      "metadata": {
        "id": "zL7RBq0uuiJP",
        "colab": {
          "base_uri": "https://localhost:8080/",
          "height": 265
        },
        "outputId": "2cfb5690-7857-4deb-d152-578bf7e6956e"
      },
      "source": [
        "plt.scatter(X_train[:,0], X_train[:,1], c=Y_pred_train, cmap=my_cmap, s=15*(np.abs(np.sign(Y_pred_train-Y_train))+.1))\n",
        "plt.show()"
      ],
      "execution_count": 22,
      "outputs": [
        {
          "output_type": "display_data",
          "data": {
            "image/png": "[encoded data removed]",
            "text/plain": [
              "<Figure size 432x288 with 1 Axes>"
            ]
          },
          "metadata": {
            "tags": [],
            "needs_background": "light"
          }
        }
      ]
    }
  ]
}