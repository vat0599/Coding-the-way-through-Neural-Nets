{
  "nbformat": 4,
  "nbformat_minor": 0,
  "metadata": {
    "colab": {
      "name": "PytorchIntro.ipynb",
      "provenance": [],
      "collapsed_sections": []
    },
    "kernelspec": {
      "name": "python3",
      "display_name": "Python 3"
    },
    "accelerator": "GPU"
  },
  "cells": [
    {
      "cell_type": "markdown",
      "metadata": {
        "id": "KPqFTlOiiiKv"
      },
      "source": [
        "## Outline\n",
        "* PyTorch\n",
        "* What are tensors\n",
        "* Initialising, slicing, reshaping tensors\n",
        "* Numpy and PyTorch interfacing\n",
        "* GPU support for PyTorch + Enabling GPUs on Google Colab\n",
        "* Speed comparisons, Numpy -- PyTorch -- PyTorch on GPU\n",
        "* Autodiff concepts and application\n",
        "* Writing a basic learning loop using autograd"
      ]
    },
    {
      "cell_type": "code",
      "metadata": {
        "id": "j4wIFDnRakTz"
      },
      "source": [
        "import torch\n",
        "import numpy as np\n",
        "import matplotlib.pyplot as plt"
      ],
      "execution_count": 1,
      "outputs": []
    },
    {
      "cell_type": "markdown",
      "metadata": {
        "id": "WJyLCI8PcPZq"
      },
      "source": [
        "## Initialise tensors"
      ]
    },
    {
      "cell_type": "code",
      "metadata": {
        "id": "NV2jveDIayX-",
        "colab": {
          "base_uri": "https://localhost:8080/"
        },
        "outputId": "dbcae9e8-e447-4ba0-8c34-246e2bd013ca"
      },
      "source": [
        "x = torch.ones(3, 2)\n",
        "print(x)\n",
        "x = torch.zeros(3, 2)\n",
        "print(x)\n",
        "x = torch.rand(3, 2)\n",
        "print(x)"
      ],
      "execution_count": 2,
      "outputs": [
        {
          "output_type": "stream",
          "text": [
            "tensor([[1., 1.],\n",
            "        [1., 1.],\n",
            "        [1., 1.]])\n",
            "tensor([[0., 0.],\n",
            "        [0., 0.],\n",
            "        [0., 0.]])\n",
            "tensor([[0.0429, 0.2482],\n",
            "        [0.3329, 0.1059],\n",
            "        [0.2434, 0.3421]])\n"
          ],
          "name": "stdout"
        }
      ]
    },
    {
      "cell_type": "code",
      "metadata": {
        "id": "BuAQVNaPFN1P",
        "colab": {
          "base_uri": "https://localhost:8080/"
        },
        "outputId": "6b05607a-fe18-4a95-a2d0-856ebec8989f"
      },
      "source": [
        "x = torch.empty(3, 2)\n",
        "print(x)\n",
        "y = torch.zeros_like(x)\n",
        "print(y)"
      ],
      "execution_count": 3,
      "outputs": [
        {
          "output_type": "stream",
          "text": [
            "tensor([[5.8854e-36, 0.0000e+00],\n",
            "        [3.3631e-44, 0.0000e+00],\n",
            "        [       nan, 1.0000e+00]])\n",
            "tensor([[0., 0.],\n",
            "        [0., 0.],\n",
            "        [0., 0.]])\n"
          ],
          "name": "stdout"
        }
      ]
    },
    {
      "cell_type": "code",
      "metadata": {
        "id": "bWrOMr-hFbwo",
        "colab": {
          "base_uri": "https://localhost:8080/"
        },
        "outputId": "3a75fdf2-5219-4708-be91-8b8dd3d5f578"
      },
      "source": [
        "x = torch.linspace(0, 1, steps=5)\n",
        "print(x)"
      ],
      "execution_count": 4,
      "outputs": [
        {
          "output_type": "stream",
          "text": [
            "tensor([0.0000, 0.2500, 0.5000, 0.7500, 1.0000])\n"
          ],
          "name": "stdout"
        }
      ]
    },
    {
      "cell_type": "code",
      "metadata": {
        "id": "l_QspfvYEtuB",
        "colab": {
          "base_uri": "https://localhost:8080/"
        },
        "outputId": "be176d50-42b3-44d7-a6ae-70d4641018f4"
      },
      "source": [
        "x = torch.tensor([[1, 2], \n",
        "                 [3, 4], \n",
        "                 [5, 6]])\n",
        "print(x)"
      ],
      "execution_count": 5,
      "outputs": [
        {
          "output_type": "stream",
          "text": [
            "tensor([[1, 2],\n",
            "        [3, 4],\n",
            "        [5, 6]])\n"
          ],
          "name": "stdout"
        }
      ]
    },
    {
      "cell_type": "markdown",
      "metadata": {
        "id": "wKub-KJLcSDJ"
      },
      "source": [
        "## Slicing tensors"
      ]
    },
    {
      "cell_type": "code",
      "metadata": {
        "id": "UxSlfSVrbH8h",
        "colab": {
          "base_uri": "https://localhost:8080/"
        },
        "outputId": "dce35d7f-2930-4a9f-ffc4-adfc7b1ca222"
      },
      "source": [
        "print(x.size())\n",
        "print(x[:, 1]) \n",
        "print(x[0, :]) "
      ],
      "execution_count": 6,
      "outputs": [
        {
          "output_type": "stream",
          "text": [
            "torch.Size([3, 2])\n",
            "tensor([2, 4, 6])\n",
            "tensor([1, 2])\n"
          ],
          "name": "stdout"
        }
      ]
    },
    {
      "cell_type": "code",
      "metadata": {
        "id": "AGWkj2utcrz9",
        "colab": {
          "base_uri": "https://localhost:8080/"
        },
        "outputId": "a918d9c2-ff99-421c-cef7-6dad1b7b736f"
      },
      "source": [
        "y = x[1, 1]\n",
        "print(y)\n",
        "print(y.item())"
      ],
      "execution_count": 7,
      "outputs": [
        {
          "output_type": "stream",
          "text": [
            "tensor(4)\n",
            "4\n"
          ],
          "name": "stdout"
        }
      ]
    },
    {
      "cell_type": "markdown",
      "metadata": {
        "id": "6YvWGrX0cUpf"
      },
      "source": [
        "## Reshaping tensors"
      ]
    },
    {
      "cell_type": "code",
      "metadata": {
        "id": "mn1q-Hm7b6hP",
        "colab": {
          "base_uri": "https://localhost:8080/"
        },
        "outputId": "dcadc366-48dc-4bf9-b57c-015045c1d3b0"
      },
      "source": [
        "print(x)\n",
        "y = x.view(2, 3)\n",
        "print(y)"
      ],
      "execution_count": 8,
      "outputs": [
        {
          "output_type": "stream",
          "text": [
            "tensor([[1, 2],\n",
            "        [3, 4],\n",
            "        [5, 6]])\n",
            "tensor([[1, 2, 3],\n",
            "        [4, 5, 6]])\n"
          ],
          "name": "stdout"
        }
      ]
    },
    {
      "cell_type": "code",
      "metadata": {
        "id": "1EbIwPvBF4Lg",
        "colab": {
          "base_uri": "https://localhost:8080/"
        },
        "outputId": "03029df3-df45-4212-8491-b040eb3b5e89"
      },
      "source": [
        "y = x.view(6,-1) \n",
        "print(y)"
      ],
      "execution_count": 9,
      "outputs": [
        {
          "output_type": "stream",
          "text": [
            "tensor([[1],\n",
            "        [2],\n",
            "        [3],\n",
            "        [4],\n",
            "        [5],\n",
            "        [6]])\n"
          ],
          "name": "stdout"
        }
      ]
    },
    {
      "cell_type": "markdown",
      "metadata": {
        "id": "2XxOq0ObdXEC"
      },
      "source": [
        "## Simple Tensor Operations"
      ]
    },
    {
      "cell_type": "code",
      "metadata": {
        "id": "Rv4jjqBVdIB2",
        "colab": {
          "base_uri": "https://localhost:8080/"
        },
        "outputId": "553fe926-0e64-46a8-db8b-90436bdc1cbb"
      },
      "source": [
        "x = torch.ones([3, 2])\n",
        "y = torch.ones([3, 2])\n",
        "z = x + y\n",
        "print(z)\n",
        "z = x - y\n",
        "print(z)\n",
        "z = x * y\n",
        "print(z)"
      ],
      "execution_count": 10,
      "outputs": [
        {
          "output_type": "stream",
          "text": [
            "tensor([[2., 2.],\n",
            "        [2., 2.],\n",
            "        [2., 2.]])\n",
            "tensor([[0., 0.],\n",
            "        [0., 0.],\n",
            "        [0., 0.]])\n",
            "tensor([[1., 1.],\n",
            "        [1., 1.],\n",
            "        [1., 1.]])\n"
          ],
          "name": "stdout"
        }
      ]
    },
    {
      "cell_type": "code",
      "metadata": {
        "id": "dVHnXB78dl8s",
        "colab": {
          "base_uri": "https://localhost:8080/"
        },
        "outputId": "f24e75f0-b6a7-4a99-b597-139414b8a521"
      },
      "source": [
        "z = y.add(x)\n",
        "print(z)\n",
        "print(y)"
      ],
      "execution_count": 11,
      "outputs": [
        {
          "output_type": "stream",
          "text": [
            "tensor([[2., 2.],\n",
            "        [2., 2.],\n",
            "        [2., 2.]])\n",
            "tensor([[1., 1.],\n",
            "        [1., 1.],\n",
            "        [1., 1.]])\n"
          ],
          "name": "stdout"
        }
      ]
    },
    {
      "cell_type": "code",
      "metadata": {
        "id": "LewBBuz_eL1m",
        "colab": {
          "base_uri": "https://localhost:8080/"
        },
        "outputId": "3870f1be-9e57-475c-bdd1-ea036d337479"
      },
      "source": [
        "z = y.add_(x)\n",
        "print(z)\n",
        "print(y)"
      ],
      "execution_count": 12,
      "outputs": [
        {
          "output_type": "stream",
          "text": [
            "tensor([[2., 2.],\n",
            "        [2., 2.],\n",
            "        [2., 2.]])\n",
            "tensor([[2., 2.],\n",
            "        [2., 2.],\n",
            "        [2., 2.]])\n"
          ],
          "name": "stdout"
        }
      ]
    },
    {
      "cell_type": "markdown",
      "metadata": {
        "id": "PDuBSdzTc2Bq"
      },
      "source": [
        "## Numpy <> PyTorch"
      ]
    },
    {
      "cell_type": "code",
      "metadata": {
        "id": "NlvqO8_1ccML",
        "colab": {
          "base_uri": "https://localhost:8080/"
        },
        "outputId": "301283f3-955e-4e32-ffc5-b01aca46140a"
      },
      "source": [
        "x_np = x.numpy()\n",
        "print(type(x), type(x_np))\n",
        "print(x_np)"
      ],
      "execution_count": 13,
      "outputs": [
        {
          "output_type": "stream",
          "text": [
            "<class 'torch.Tensor'> <class 'numpy.ndarray'>\n",
            "[[1. 1.]\n",
            " [1. 1.]\n",
            " [1. 1.]]\n"
          ],
          "name": "stdout"
        }
      ]
    },
    {
      "cell_type": "code",
      "metadata": {
        "id": "tLhS3Hrmc-M2",
        "colab": {
          "base_uri": "https://localhost:8080/"
        },
        "outputId": "b4282222-7372-427c-8bc4-d368024b6f78"
      },
      "source": [
        "a = np.random.randn(5)\n",
        "print(a)\n",
        "a_pt = torch.from_numpy(a)\n",
        "print(type(a), type(a_pt))\n",
        "print(a_pt)"
      ],
      "execution_count": 14,
      "outputs": [
        {
          "output_type": "stream",
          "text": [
            "[ 1.24207886  1.71895373 -0.49832897 -0.89996597 -0.93962921]\n",
            "<class 'numpy.ndarray'> <class 'torch.Tensor'>\n",
            "tensor([ 1.2421,  1.7190, -0.4983, -0.9000, -0.9396], dtype=torch.float64)\n"
          ],
          "name": "stdout"
        }
      ]
    },
    {
      "cell_type": "code",
      "metadata": {
        "id": "kwZhRYVtdp-X",
        "colab": {
          "base_uri": "https://localhost:8080/"
        },
        "outputId": "670549cc-3a66-46f1-eaac-73006f9e86f9"
      },
      "source": [
        "np.add(a, 1, out=a)\n",
        "print(a)\n",
        "print(a_pt) "
      ],
      "execution_count": 15,
      "outputs": [
        {
          "output_type": "stream",
          "text": [
            "[2.24207886 2.71895373 0.50167103 0.10003403 0.06037079]\n",
            "tensor([2.2421, 2.7190, 0.5017, 0.1000, 0.0604], dtype=torch.float64)\n"
          ],
          "name": "stdout"
        }
      ]
    },
    {
      "cell_type": "code",
      "metadata": {
        "id": "6z-Mhf2hewcU",
        "colab": {
          "base_uri": "https://localhost:8080/"
        },
        "outputId": "de9d1878-e035-4111-8f77-bca0d90de0b9"
      },
      "source": [
        "%%time\n",
        "for i in range(100):\n",
        "  a = np.random.randn(100,100)\n",
        "  b = np.random.randn(100,100)\n",
        "  c = np.matmul(a, b)"
      ],
      "execution_count": 16,
      "outputs": [
        {
          "output_type": "stream",
          "text": [
            "CPU times: user 121 ms, sys: 102 ms, total: 223 ms\n",
            "Wall time: 117 ms\n"
          ],
          "name": "stdout"
        }
      ]
    },
    {
      "cell_type": "code",
      "metadata": {
        "id": "aFzIX2qge3x9",
        "colab": {
          "base_uri": "https://localhost:8080/"
        },
        "outputId": "5e9025b6-e128-49b2-9407-6356397cf188"
      },
      "source": [
        "%%time\n",
        "for i in range(100):\n",
        "  a = torch.randn([100, 100])\n",
        "  b = torch.randn([100, 100])\n",
        "  c = torch.matmul(a, b)"
      ],
      "execution_count": 17,
      "outputs": [
        {
          "output_type": "stream",
          "text": [
            "CPU times: user 25.4 ms, sys: 0 ns, total: 25.4 ms\n",
            "Wall time: 62.4 ms\n"
          ],
          "name": "stdout"
        }
      ]
    },
    {
      "cell_type": "code",
      "metadata": {
        "id": "Pdat0Hnm6hGA",
        "colab": {
          "base_uri": "https://localhost:8080/"
        },
        "outputId": "b9f030de-8bc9-4128-ed95-586c8f58a921"
      },
      "source": [
        "%%time\n",
        "for i in range(10):\n",
        "  a = np.random.randn(10000,10000)\n",
        "  b = np.random.randn(10000,10000)\n",
        "  c = a + b"
      ],
      "execution_count": 18,
      "outputs": [
        {
          "output_type": "stream",
          "text": [
            "CPU times: user 1min 13s, sys: 540 ms, total: 1min 14s\n",
            "Wall time: 1min 14s\n"
          ],
          "name": "stdout"
        }
      ]
    },
    {
      "cell_type": "code",
      "metadata": {
        "id": "XlRx5OKl6kEq",
        "colab": {
          "base_uri": "https://localhost:8080/"
        },
        "outputId": "0a7ad363-3b28-4462-ab5e-8b63e3a0ddf3"
      },
      "source": [
        "%%time\n",
        "for i in range(10):\n",
        "  a = torch.randn([10000, 10000])\n",
        "  b = torch.randn([10000, 10000])\n",
        "  c = a + b"
      ],
      "execution_count": 19,
      "outputs": [
        {
          "output_type": "stream",
          "text": [
            "CPU times: user 19.3 s, sys: 6.66 ms, total: 19.3 s\n",
            "Wall time: 19.3 s\n"
          ],
          "name": "stdout"
        }
      ]
    },
    {
      "cell_type": "markdown",
      "metadata": {
        "id": "de5YwtfUgMWO"
      },
      "source": [
        "## CUDA support"
      ]
    },
    {
      "cell_type": "code",
      "metadata": {
        "id": "-nI4nYcWgY1B",
        "colab": {
          "base_uri": "https://localhost:8080/"
        },
        "outputId": "3dc4fef5-e5f5-41cb-fa7a-ac01ecd9b2d9"
      },
      "source": [
        "print(torch.cuda.device_count())"
      ],
      "execution_count": 20,
      "outputs": [
        {
          "output_type": "stream",
          "text": [
            "1\n"
          ],
          "name": "stdout"
        }
      ]
    },
    {
      "cell_type": "code",
      "metadata": {
        "id": "_3E-PMC1gfKU",
        "colab": {
          "base_uri": "https://localhost:8080/"
        },
        "outputId": "fb69ed22-d570-448b-c2c4-2e736fad11e4"
      },
      "source": [
        "print(torch.cuda.device(0))\n",
        "print(torch.cuda.get_device_name(0))"
      ],
      "execution_count": 21,
      "outputs": [
        {
          "output_type": "stream",
          "text": [
            "<torch.cuda.device object at 0x7fdd22fafe10>\n",
            "Tesla T4\n"
          ],
          "name": "stdout"
        }
      ]
    },
    {
      "cell_type": "code",
      "metadata": {
        "id": "_eZYxVpMgor4"
      },
      "source": [
        "cuda0 = torch.device('cuda:0')"
      ],
      "execution_count": 22,
      "outputs": []
    },
    {
      "cell_type": "code",
      "metadata": {
        "id": "j1r7y57x9JZU",
        "colab": {
          "base_uri": "https://localhost:8080/"
        },
        "outputId": "f112cf68-61b8-4af8-f494-b5e4d1feb8bd"
      },
      "source": [
        "a = torch.ones(3, 2, device=cuda0)\n",
        "b = torch.ones(3, 2, device=cuda0)\n",
        "c = a + b\n",
        "print(c)"
      ],
      "execution_count": 23,
      "outputs": [
        {
          "output_type": "stream",
          "text": [
            "tensor([[2., 2.],\n",
            "        [2., 2.],\n",
            "        [2., 2.]], device='cuda:0')\n"
          ],
          "name": "stdout"
        }
      ]
    },
    {
      "cell_type": "code",
      "metadata": {
        "id": "wSt3W1s-_Gc3",
        "colab": {
          "base_uri": "https://localhost:8080/"
        },
        "outputId": "78806969-622b-4717-c06a-2a8dd4ec38ef"
      },
      "source": [
        "print(a)"
      ],
      "execution_count": 24,
      "outputs": [
        {
          "output_type": "stream",
          "text": [
            "tensor([[1., 1.],\n",
            "        [1., 1.],\n",
            "        [1., 1.]], device='cuda:0')\n"
          ],
          "name": "stdout"
        }
      ]
    },
    {
      "cell_type": "code",
      "metadata": {
        "id": "sVfOAU2EfTXB",
        "colab": {
          "base_uri": "https://localhost:8080/"
        },
        "outputId": "8349d19b-2521-4daa-a3f2-51d52ac1bf39"
      },
      "source": [
        "%%time\n",
        "for i in range(10):\n",
        "  a = np.random.randn(10000,10000)\n",
        "  b = np.random.randn(10000,10000)\n",
        "  np.add(b, a)"
      ],
      "execution_count": 25,
      "outputs": [
        {
          "output_type": "stream",
          "text": [
            "CPU times: user 1min 12s, sys: 298 ms, total: 1min 13s\n",
            "Wall time: 1min 13s\n"
          ],
          "name": "stdout"
        }
      ]
    },
    {
      "cell_type": "code",
      "metadata": {
        "id": "G9GLUek5hCfn",
        "colab": {
          "base_uri": "https://localhost:8080/"
        },
        "outputId": "78078e76-727d-4fed-e47a-ca0dba8727d5"
      },
      "source": [
        "%%time\n",
        "for i in range(10):\n",
        "  a_cpu = torch.randn([10000, 10000])\n",
        "  b_cpu = torch.randn([10000, 10000])\n",
        "  b_cpu.add_(a_cpu)"
      ],
      "execution_count": 26,
      "outputs": [
        {
          "output_type": "stream",
          "text": [
            "CPU times: user 18.9 s, sys: 185 ms, total: 19.1 s\n",
            "Wall time: 19.1 s\n"
          ],
          "name": "stdout"
        }
      ]
    },
    {
      "cell_type": "code",
      "metadata": {
        "id": "FqSYioGrgyMI",
        "colab": {
          "base_uri": "https://localhost:8080/"
        },
        "outputId": "d04808ba-2883-462f-d53e-2af639cb8617"
      },
      "source": [
        "%%time\n",
        "for i in range(10):\n",
        "  a = torch.randn([10000, 10000], device=cuda0)\n",
        "  b = torch.randn([10000, 10000], device=cuda0)\n",
        "  b.add_(a)"
      ],
      "execution_count": 27,
      "outputs": [
        {
          "output_type": "stream",
          "text": [
            "CPU times: user 697 µs, sys: 3 ms, total: 3.69 ms\n",
            "Wall time: 7.97 ms\n"
          ],
          "name": "stdout"
        }
      ]
    },
    {
      "cell_type": "code",
      "metadata": {
        "id": "Kjsl8xRFjPtT",
        "colab": {
          "base_uri": "https://localhost:8080/"
        },
        "outputId": "117a13a2-5acb-4b29-a34e-fde4e2f091ef"
      },
      "source": [
        "%%time\n",
        "for i in range(10):\n",
        "  a = np.random.randn(10000,10000)\n",
        "  b = np.random.randn(10000,10000)\n",
        "  np.matmul(b, a)"
      ],
      "execution_count": 28,
      "outputs": [
        {
          "output_type": "stream",
          "text": [
            "CPU times: user 16min 29s, sys: 4.09 s, total: 16min 33s\n",
            "Wall time: 8min 56s\n"
          ],
          "name": "stdout"
        }
      ]
    },
    {
      "cell_type": "code",
      "metadata": {
        "id": "avFqbCgXjT3F",
        "colab": {
          "base_uri": "https://localhost:8080/"
        },
        "outputId": "f1a09019-f1d8-4f63-f35b-0472885012c0"
      },
      "source": [
        "%%time\n",
        "for i in range(10):\n",
        "  a_cpu = torch.randn([10000, 10000])\n",
        "  b_cpu = torch.randn([10000, 10000])\n",
        "  torch.matmul(a_cpu, b_cpu)"
      ],
      "execution_count": 29,
      "outputs": [
        {
          "output_type": "stream",
          "text": [
            "CPU times: user 3min 56s, sys: 149 ms, total: 3min 56s\n",
            "Wall time: 3min 56s\n"
          ],
          "name": "stdout"
        }
      ]
    },
    {
      "cell_type": "code",
      "metadata": {
        "id": "hFfMhN2gjlZJ",
        "colab": {
          "base_uri": "https://localhost:8080/"
        },
        "outputId": "b69788d7-56cc-41da-eec3-1e88d49cba04"
      },
      "source": [
        "%%time\n",
        "for i in range(10):\n",
        "  a = torch.randn([10000, 10000], device=cuda0)\n",
        "  b = torch.randn([10000, 10000], device=cuda0)\n",
        "  torch.matmul(a, b)"
      ],
      "execution_count": 30,
      "outputs": [
        {
          "output_type": "stream",
          "text": [
            "CPU times: user 2.51 ms, sys: 1.01 ms, total: 3.51 ms\n",
            "Wall time: 11.6 ms\n"
          ],
          "name": "stdout"
        }
      ]
    },
    {
      "cell_type": "markdown",
      "metadata": {
        "id": "P_6TU64Gi7jv"
      },
      "source": [
        "## Autodiff"
      ]
    },
    {
      "cell_type": "code",
      "metadata": {
        "id": "PjySsLMThEX7",
        "colab": {
          "base_uri": "https://localhost:8080/"
        },
        "outputId": "d6be9afc-70ba-4157-bc03-15cf0d558a14"
      },
      "source": [
        "x = torch.ones([3, 2], requires_grad=True)\n",
        "print(x)"
      ],
      "execution_count": 31,
      "outputs": [
        {
          "output_type": "stream",
          "text": [
            "tensor([[1., 1.],\n",
            "        [1., 1.],\n",
            "        [1., 1.]], requires_grad=True)\n"
          ],
          "name": "stdout"
        }
      ]
    },
    {
      "cell_type": "code",
      "metadata": {
        "id": "neb3oFWBjAtJ",
        "colab": {
          "base_uri": "https://localhost:8080/"
        },
        "outputId": "d57b222d-6f78-4d82-85f6-00586a16ea3a"
      },
      "source": [
        "y = x + 5\n",
        "print(y)"
      ],
      "execution_count": 32,
      "outputs": [
        {
          "output_type": "stream",
          "text": [
            "tensor([[6., 6.],\n",
            "        [6., 6.],\n",
            "        [6., 6.]], grad_fn=<AddBackward0>)\n"
          ],
          "name": "stdout"
        }
      ]
    },
    {
      "cell_type": "code",
      "metadata": {
        "id": "5M0pnstAjLa-",
        "colab": {
          "base_uri": "https://localhost:8080/"
        },
        "outputId": "82865d9a-d877-4b39-e1c3-2fc1e1aa8517"
      },
      "source": [
        "z = y*y + 1\n",
        "print(z)"
      ],
      "execution_count": 33,
      "outputs": [
        {
          "output_type": "stream",
          "text": [
            "tensor([[37., 37.],\n",
            "        [37., 37.],\n",
            "        [37., 37.]], grad_fn=<AddBackward0>)\n"
          ],
          "name": "stdout"
        }
      ]
    },
    {
      "cell_type": "code",
      "metadata": {
        "id": "wHHDSmiUkMOw",
        "colab": {
          "base_uri": "https://localhost:8080/"
        },
        "outputId": "ddf910c7-15e9-4f9a-f720-20be087fb392"
      },
      "source": [
        "t = torch.sum(z)\n",
        "print(t)"
      ],
      "execution_count": 34,
      "outputs": [
        {
          "output_type": "stream",
          "text": [
            "tensor(222., grad_fn=<SumBackward0>)\n"
          ],
          "name": "stdout"
        }
      ]
    },
    {
      "cell_type": "code",
      "metadata": {
        "id": "AXj896azkM_S"
      },
      "source": [
        "t.backward()"
      ],
      "execution_count": 35,
      "outputs": []
    },
    {
      "cell_type": "code",
      "metadata": {
        "id": "wSYAcNN1lAWS",
        "colab": {
          "base_uri": "https://localhost:8080/"
        },
        "outputId": "cce56ecc-9450-46db-b57e-ff8aa69bec39"
      },
      "source": [
        "print(x.grad)"
      ],
      "execution_count": 36,
      "outputs": [
        {
          "output_type": "stream",
          "text": [
            "tensor([[12., 12.],\n",
            "        [12., 12.],\n",
            "        [12., 12.]])\n"
          ],
          "name": "stdout"
        }
      ]
    },
    {
      "cell_type": "markdown",
      "metadata": {
        "id": "6nrD44oJiEIY"
      },
      "source": [
        "$t = \\sum_i z_i, z_i = y_i^2 + 1, y_i = x_i + 5$\n",
        "\n",
        "$\\frac{\\partial t}{\\partial x_i} = \\frac{\\partial z_i}{\\partial x_i} = \\frac{\\partial z_i}{\\partial y_i} \\frac{\\partial y_i}{\\partial x_i} = 2y_i \\times 1$\n",
        "\n",
        "\n",
        "At x = 1, y = 6, $\\frac{\\partial t}{\\partial x_i} = 12$"
      ]
    },
    {
      "cell_type": "code",
      "metadata": {
        "id": "ZFCWPPAP6ipv",
        "colab": {
          "base_uri": "https://localhost:8080/"
        },
        "outputId": "f4297f4d-7b50-482c-c928-419e0f79aa23"
      },
      "source": [
        "x = torch.ones([3, 2], requires_grad=True)\n",
        "y = x + 5\n",
        "r = 1/(1 + torch.exp(-y))\n",
        "print(r)\n",
        "s = torch.sum(r)\n",
        "s.backward()\n",
        "print(x.grad)"
      ],
      "execution_count": 37,
      "outputs": [
        {
          "output_type": "stream",
          "text": [
            "tensor([[0.9975, 0.9975],\n",
            "        [0.9975, 0.9975],\n",
            "        [0.9975, 0.9975]], grad_fn=<MulBackward0>)\n",
            "tensor([[0.0025, 0.0025],\n",
            "        [0.0025, 0.0025],\n",
            "        [0.0025, 0.0025]])\n"
          ],
          "name": "stdout"
        }
      ]
    },
    {
      "cell_type": "code",
      "metadata": {
        "id": "Ts1wsONqlE5h",
        "colab": {
          "base_uri": "https://localhost:8080/"
        },
        "outputId": "d1162640-4c05-4821-ae19-3ee82b2a6007"
      },
      "source": [
        "x = torch.ones([3, 2], requires_grad=True)\n",
        "y = x + 5\n",
        "r = 1/(1 + torch.exp(-y))\n",
        "a = torch.ones([3, 2])\n",
        "r.backward(a)\n",
        "print(x.grad)"
      ],
      "execution_count": 38,
      "outputs": [
        {
          "output_type": "stream",
          "text": [
            "tensor([[0.0025, 0.0025],\n",
            "        [0.0025, 0.0025],\n",
            "        [0.0025, 0.0025]])\n"
          ],
          "name": "stdout"
        }
      ]
    },
    {
      "cell_type": "markdown",
      "metadata": {
        "id": "56AqY5hY77dx"
      },
      "source": [
        "$\\frac{\\partial{s}}{\\partial{x}} = \\frac{\\partial{s}}{\\partial{r}} \\cdot \\frac{\\partial{r}}{\\partial{x}}$\n",
        "\n",
        "For the above code $a$ represents $\\frac{\\partial{s}}{\\partial{r}}$ and then $x.grad$ gives directly $\\frac{\\partial{s}}{\\partial{x}}$\n",
        "\n"
      ]
    },
    {
      "cell_type": "markdown",
      "metadata": {
        "id": "AKhxwdYUpUfj"
      },
      "source": [
        "## Autodiff example that looks like what we have been doing"
      ]
    },
    {
      "cell_type": "code",
      "metadata": {
        "id": "THNkQLR6mmpO"
      },
      "source": [
        "x = torch.randn([20, 1], requires_grad=True)\n",
        "y = 3*x - 2"
      ],
      "execution_count": 39,
      "outputs": []
    },
    {
      "cell_type": "code",
      "metadata": {
        "id": "-t4_8qgdnjDk"
      },
      "source": [
        "w = torch.tensor([1.], requires_grad=True)\n",
        "b = torch.tensor([1.], requires_grad=True)\n",
        "\n",
        "y_hat = w*x + b\n",
        "\n",
        "loss = torch.sum((y_hat - y)**2)"
      ],
      "execution_count": 40,
      "outputs": []
    },
    {
      "cell_type": "code",
      "metadata": {
        "id": "Gvpc37u-o6ob",
        "colab": {
          "base_uri": "https://localhost:8080/"
        },
        "outputId": "2e4f1081-fc06-4b37-96b4-ca35d5fb7b22"
      },
      "source": [
        "print(loss)"
      ],
      "execution_count": 41,
      "outputs": [
        {
          "output_type": "stream",
          "text": [
            "tensor(201.4048, grad_fn=<SumBackward0>)\n"
          ],
          "name": "stdout"
        }
      ]
    },
    {
      "cell_type": "code",
      "metadata": {
        "id": "-tnKq6DXo-RB"
      },
      "source": [
        "loss.backward()"
      ],
      "execution_count": 42,
      "outputs": []
    },
    {
      "cell_type": "code",
      "metadata": {
        "id": "I38qmZLhpM2F",
        "colab": {
          "base_uri": "https://localhost:8080/"
        },
        "outputId": "34cbd4c7-8de4-4ea7-a842-4501544a0a44"
      },
      "source": [
        "print(w.grad, b.grad)"
      ],
      "execution_count": 43,
      "outputs": [
        {
          "output_type": "stream",
          "text": [
            "tensor([-51.7636]) tensor([99.7608])\n"
          ],
          "name": "stdout"
        }
      ]
    },
    {
      "cell_type": "markdown",
      "metadata": {
        "id": "WfDV6saTq8XA"
      },
      "source": [
        "## Do it in a loop"
      ]
    },
    {
      "cell_type": "code",
      "metadata": {
        "id": "ivmJgJQTpN79",
        "colab": {
          "base_uri": "https://localhost:8080/"
        },
        "outputId": "f772be07-4396-4779-a520-6b68c6219447"
      },
      "source": [
        "learning_rate = 0.01\n",
        "\n",
        "w = torch.tensor([1.], requires_grad=True)\n",
        "b = torch.tensor([1.], requires_grad=True)\n",
        "\n",
        "print(w.item(), b.item())\n",
        "\n",
        "for i in range(10):\n",
        "  \n",
        "  x = torch.randn([20, 1])\n",
        "  y = 3*x - 2\n",
        "  \n",
        "  y_hat = w*x + b\n",
        "  loss = torch.sum((y_hat - y)**2)\n",
        "  \n",
        "  loss.backward()\n",
        "  \n",
        "  with torch.no_grad():\n",
        "    w -= learning_rate * w.grad\n",
        "    b -= learning_rate * b.grad\n",
        "    \n",
        "    w.grad.zero_()\n",
        "    b.grad.zero_()\n",
        "\n",
        "  print(w.item(), b.item())\n",
        "  "
      ],
      "execution_count": 44,
      "outputs": [
        {
          "output_type": "stream",
          "text": [
            "1.0 1.0\n",
            "1.9626469612121582 -0.43246710300445557\n",
            "2.438129425048828 -1.0513126850128174\n",
            "2.5849459171295166 -1.4148211479187012\n",
            "2.6794803142547607 -1.568439245223999\n",
            "2.9159388542175293 -1.7901824712753296\n",
            "2.961367130279541 -1.8746376037597656\n",
            "2.968613386154175 -1.924680233001709\n",
            "2.9730236530303955 -1.9501516819000244\n",
            "2.9808077812194824 -1.969220757484436\n",
            "2.9935529232025146 -1.9827208518981934\n"
          ],
          "name": "stdout"
        }
      ]
    },
    {
      "cell_type": "markdown",
      "metadata": {
        "id": "vyOqrZZiuLkl"
      },
      "source": [
        "## Do it for a large problem"
      ]
    },
    {
      "cell_type": "code",
      "metadata": {
        "id": "qq3Iykk1rMfh",
        "colab": {
          "base_uri": "https://localhost:8080/"
        },
        "outputId": "e97f07e2-0acd-4ddb-b611-1f4d41269a7b"
      },
      "source": [
        "%%time\n",
        "learning_rate = 0.001\n",
        "N = 10000000\n",
        "epochs = 200\n",
        "\n",
        "w = torch.rand([N], requires_grad=True)\n",
        "b = torch.ones([1], requires_grad=True)\n",
        "\n",
        "# print(torch.mean(w).item(), b.item())\n",
        "\n",
        "for i in range(epochs):\n",
        "  \n",
        "  x = torch.randn([N])\n",
        "  y = torch.dot(3*torch.ones([N]), x) - 2\n",
        "  \n",
        "  y_hat = torch.dot(w, x) + b\n",
        "  loss = torch.sum((y_hat - y)**2)\n",
        "  \n",
        "  loss.backward()\n",
        "  \n",
        "  with torch.no_grad():\n",
        "    w -= learning_rate * w.grad\n",
        "    b -= learning_rate * b.grad\n",
        "    \n",
        "    w.grad.zero_()\n",
        "    b.grad.zero_()\n",
        "\n",
        "#   print(torch.mean(w).item(), b.item())\n",
        "  "
      ],
      "execution_count": 45,
      "outputs": [
        {
          "output_type": "stream",
          "text": [
            "CPU times: user 28.5 s, sys: 33.1 ms, total: 28.6 s\n",
            "Wall time: 28.6 s\n"
          ],
          "name": "stdout"
        }
      ]
    },
    {
      "cell_type": "code",
      "metadata": {
        "id": "owaeEn4A01zF",
        "colab": {
          "base_uri": "https://localhost:8080/"
        },
        "outputId": "e8a3fd54-efa9-48fa-9301-901e80a0d807"
      },
      "source": [
        "%%time\n",
        "learning_rate = 0.001\n",
        "N = 10000000\n",
        "epochs = 200\n",
        "\n",
        "w = torch.rand([N], requires_grad=True, device=cuda0)\n",
        "b = torch.ones([1], requires_grad=True, device=cuda0)\n",
        "\n",
        "# print(torch.mean(w).item(), b.item())\n",
        "\n",
        "for i in range(epochs):\n",
        "  \n",
        "  x = torch.randn([N], device=cuda0)\n",
        "  y = torch.dot(3*torch.ones([N], device=cuda0), x) - 2\n",
        "  \n",
        "  y_hat = torch.dot(w, x) + b\n",
        "  loss = torch.sum((y_hat - y)**2)\n",
        "  \n",
        "  loss.backward()\n",
        "  \n",
        "  with torch.no_grad():\n",
        "    w -= learning_rate * w.grad\n",
        "    b -= learning_rate * b.grad\n",
        "    \n",
        "    w.grad.zero_()\n",
        "    b.grad.zero_()\n",
        "\n",
        "  #print(torch.mean(w).item(), b.item())\n",
        "  "
      ],
      "execution_count": 46,
      "outputs": [
        {
          "output_type": "stream",
          "text": [
            "CPU times: user 304 ms, sys: 211 ms, total: 515 ms\n",
            "Wall time: 534 ms\n"
          ],
          "name": "stdout"
        }
      ]
    }
  ]
}